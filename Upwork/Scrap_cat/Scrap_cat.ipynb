{
 "cells": [
  {
   "cell_type": "code",
   "execution_count": 62,
   "metadata": {},
   "outputs": [
    {
     "name": "stdout",
     "output_type": "stream",
     "text": [
      "                                            Team name\n",
      "0   \\n                            1990\\n          ...\n",
      "1   \\n                            1990\\n          ...\n",
      "2   \\n                            1990\\n          ...\n",
      "3   \\n                            1990\\n          ...\n",
      "4   \\n                            1990\\n          ...\n",
      "5   \\n                            1990\\n          ...\n",
      "6   \\n                            1990\\n          ...\n",
      "7   \\n                            1990\\n          ...\n",
      "8   \\n                            1990\\n          ...\n",
      "9   \\n                            1990\\n          ...\n",
      "10  \\n                            1990\\n          ...\n",
      "11  \\n                            1990\\n          ...\n",
      "12  \\n                            1990\\n          ...\n",
      "13  \\n                            1990\\n          ...\n",
      "14  \\n                            1990\\n          ...\n",
      "15  \\n                            1990\\n          ...\n",
      "16  \\n                            1990\\n          ...\n",
      "17  \\n                            1990\\n          ...\n",
      "18  \\n                            1990\\n          ...\n",
      "19  \\n                            1990\\n          ...\n",
      "20  \\n                            1990\\n          ...\n",
      "21  \\n                            1991\\n          ...\n",
      "22  \\n                            1991\\n          ...\n",
      "23  \\n                            1991\\n          ...\n",
      "24  \\n                            1991\\n          ...\n",
      "25  \\n                            1991\\n          ...\n",
      "26  \\n                            1991\\n          ...\n",
      "27  \\n                            1991\\n          ...\n",
      "28  \\n                            1991\\n          ...\n",
      "29  \\n                            1991\\n          ...\n",
      "30  \\n                            1991\\n          ...\n",
      "31  \\n                            1991\\n          ...\n",
      "32  \\n                            1991\\n          ...\n",
      "33  \\n                            1991\\n          ...\n",
      "34  \\n                            1991\\n          ...\n",
      "35  \\n                            1991\\n          ...\n",
      "36  \\n                            1991\\n          ...\n",
      "37  \\n                            1991\\n          ...\n",
      "38  \\n                            1991\\n          ...\n",
      "39  \\n                            1991\\n          ...\n",
      "40  \\n                            1991\\n          ...\n",
      "41  \\n                            1991\\n          ...\n",
      "42  \\n                            1991\\n          ...\n",
      "43  \\n                            1992\\n          ...\n",
      "44  \\n                            1992\\n          ...\n",
      "45  \\n                            1992\\n          ...\n",
      "46  \\n                            1992\\n          ...\n",
      "47  \\n                            1992\\n          ...\n",
      "48  \\n                            1992\\n          ...\n",
      "49  \\n                            1992\\n          ...\n"
     ]
    }
   ],
   "source": [
    "import requests\n",
    "from bs4 import BeautifulSoup\n",
    "import pandas as pd\n",
    "\n",
    "def extract_table(url):\n",
    "    response = requests.get(url)\n",
    "    soup = BeautifulSoup(response.content, \"html.parser\")\n",
    "    table = soup.find(\"table\")\n",
    "    return table\n",
    "\n",
    "# Lista de URLs de las páginas HTML\n",
    "urls = [\"https://www.scrapethissite.com/pages/forms/\",'https://www.scrapethissite.com/pages/forms/?page_num=2']\n",
    "Team_name=[]\n",
    "# Iteramos sobre las URLs\n",
    "for url in urls:\n",
    "    table = extract_table(url)\n",
    "    rows = table.find_all('tr')\n",
    "    del rows[0]\n",
    "    Team_name2 = []\n",
    "    for row in rows:\n",
    "        Team_name2.append(row.find_all('td')[1].get_text() )\n",
    "    Team_name.extend(Team_name2)\n",
    "df = pd.DataFrame({'Team name':Team_name})\n",
    "print(df)\n",
    "\n",
    "\n",
    "\n"
   ]
  }
 ],
 "metadata": {
  "kernelspec": {
   "display_name": "Python 3",
   "language": "python",
   "name": "python3"
  },
  "language_info": {
   "codemirror_mode": {
    "name": "ipython",
    "version": 3
   },
   "file_extension": ".py",
   "mimetype": "text/x-python",
   "name": "python",
   "nbconvert_exporter": "python",
   "pygments_lexer": "ipython3",
   "version": "3.11.5"
  }
 },
 "nbformat": 4,
 "nbformat_minor": 2
}
