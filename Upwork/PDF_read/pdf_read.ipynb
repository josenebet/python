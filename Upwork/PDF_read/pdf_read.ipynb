{
 "cells": [
  {
   "cell_type": "code",
   "execution_count": 5,
   "metadata": {},
   "outputs": [
    {
     "name": "stdout",
     "output_type": "stream",
     "text": [
      "b'https://hub.coinary.com/dashboard'\n"
     ]
    }
   ],
   "source": [
    "import cv2\n",
    "import pyzbar.pyzbar as pyzbar\n",
    "from pypdf import PdfReader\n",
    "import numpy as np  # Importamos la biblioteca NumPy\n",
    "\n",
    "# Abre el archivo PDF\n",
    "pdf_path = \"qrcode-generado.pdf\"\n",
    "pdf = PdfReader(pdf_path) \n",
    "\n",
    "#Lee la imagen del archivo PDF\n",
    "page = pdf.pages[0]\n",
    "images = []\n",
    "for image_file_object in page.images:\n",
    "    images.append(image_file_object.data)\n",
    "\n",
    "# Lee los bytes del PDF y conviértelos en un array NumPy\n",
    "pdf_bytes = np.frombuffer(images[0], dtype=np.uint8)\n",
    "\n",
    "#Crea una instancia de la clase Image a partir del array NumPy\n",
    "image = cv2.imdecode(pdf_bytes, cv2.IMREAD_COLOR)\n",
    "\n",
    "# Encuentra los códigos QR en la imagen\n",
    "qr_codes = pyzbar.decode(image)\n",
    "\n",
    "# Imprime el contenido de cada código QR\n",
    "for qr_code in qr_codes:\n",
    "    print(qr_code.data)\n"
   ]
  }
 ],
 "metadata": {
  "kernelspec": {
   "display_name": "Python 3",
   "language": "python",
   "name": "python3"
  },
  "language_info": {
   "codemirror_mode": {
    "name": "ipython",
    "version": 3
   },
   "file_extension": ".py",
   "mimetype": "text/x-python",
   "name": "python",
   "nbconvert_exporter": "python",
   "pygments_lexer": "ipython3",
   "version": "3.11.5"
  }
 },
 "nbformat": 4,
 "nbformat_minor": 2
}
