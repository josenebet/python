{
 "cells": [
  {
   "cell_type": "code",
   "execution_count": 1,
   "metadata": {},
   "outputs": [],
   "source": [
    "import requests\n",
    "from selenium import webdriver\n",
    "from selenium.webdriver.common.by import By\n",
    "import pandas as pd"
   ]
  },
  {
   "cell_type": "code",
   "execution_count": 16,
   "metadata": {},
   "outputs": [
    {
     "name": "stdout",
     "output_type": "stream",
     "text": [
      "10\n"
     ]
    }
   ],
   "source": [
    "website = 'https://ridsport.se/om-oss/organisation/foreningar'\n",
    "driver = webdriver.Chrome()\n",
    "driver.get(website)\n",
    "buttons1 = driver.find_elements(By.XPATH,'//button[@type=\"submit\"]')\n",
    "buttons1[0].click()\n",
    "buttons1[1].click()\n",
    "\n",
    "\n",
    "sec_buttons = driver.find_elements(By.TAG_NAME,'button')\n",
    "print(len(sec_buttons))\n",
    "#ActionChains(driver).click(sok_button).perform()\n",
    "\n"
   ]
  }
 ],
 "metadata": {
  "kernelspec": {
   "display_name": "Python 3",
   "language": "python",
   "name": "python3"
  },
  "language_info": {
   "codemirror_mode": {
    "name": "ipython",
    "version": 3
   },
   "file_extension": ".py",
   "mimetype": "text/x-python",
   "name": "python",
   "nbconvert_exporter": "python",
   "pygments_lexer": "ipython3",
   "version": "3.11.5"
  }
 },
 "nbformat": 4,
 "nbformat_minor": 2
}
