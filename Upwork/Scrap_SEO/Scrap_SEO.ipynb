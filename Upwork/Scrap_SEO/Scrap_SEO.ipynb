{
 "cells": [
  {
   "cell_type": "code",
   "execution_count": 9,
   "metadata": {},
   "outputs": [],
   "source": [
    "import requests\n",
    "from bs4 import BeautifulSoup\n",
    "import builtwith  # For identifying technologies\n",
    "from seoanalyzer import analyze  # For SEO scores\n",
    "\n",
    "def scrape_website_data(website_urls):\n",
    "    \"\"\"Scrapes the specified websites for technologies used and SEO scores.\"\"\"\n",
    "\n",
    "    results = []\n",
    "    for url in website_urls:\n",
    "        try:\n",
    "            # Get technologies\n",
    "            technologies = builtwith.parse(url)\n",
    "\n",
    "            # Get SEO score\n",
    "           # seo_analyzer = seoanalyzer.Analyzer(url)\n",
    "            seo_report = analyze(url)\n",
    "            #seo_score = seo_report.get_overall_score()\n",
    "\n",
    "            results.append({\n",
    "                \"url\": url,\n",
    "                \"technologies\": technologies,\n",
    "                \"seo_score\": seo_report\n",
    "            })\n",
    "        except Exception as e:\n",
    "            print(f\"Error scraping {url}: {e}\")\n",
    "\n",
    "    return results\n",
    "\n",
    "# Example usage\n",
    "website_urls = [\n",
    "'https://www.scrapethissite.com/pages/forms/'\n",
    "]\n",
    "\n",
    "data = scrape_website_data(website_urls)\n",
    "#print(data)\n",
    "with open(\"website_data.txt\", \"w\", encoding=\"utf-8\") as f:\n",
    "    for item in data:\n",
    "        f.write(f\"{item}\\n\")\n"
   ]
  }
 ],
 "metadata": {
  "kernelspec": {
   "display_name": "Python 3",
   "language": "python",
   "name": "python3"
  },
  "language_info": {
   "codemirror_mode": {
    "name": "ipython",
    "version": 3
   },
   "file_extension": ".py",
   "mimetype": "text/x-python",
   "name": "python",
   "nbconvert_exporter": "python",
   "pygments_lexer": "ipython3",
   "version": "3.11.5"
  }
 },
 "nbformat": 4,
 "nbformat_minor": 2
}
